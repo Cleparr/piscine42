{
 "cells": [
  {
   "cell_type": "code",
   "execution_count": 3,
   "metadata": {},
   "outputs": [],
   "source": [
    "#Fonction Min\n",
    "def min(x):\n",
    "    mini = x[0] #On considere le premiere element de la liste comme etant le minimum\n",
    "    for i in x[0:]: #Pour chaque i dans la liste \n",
    "        if i < mini:\n",
    "            mini = i  #Alors on redefinit le minimum\n",
    "    return mini"
   ]
  },
  {
   "cell_type": "code",
   "execution_count": 4,
   "metadata": {},
   "outputs": [],
   "source": [
    "#Fonction Max\n",
    "def max(x):\n",
    "    maxi = x[0] #On considere le premiere element de la liste comme etant le maximum\n",
    "    for i in x[0:]: #Pour chaque i dans la liste \n",
    "        if i > maxi:\n",
    "            maxi = i  #Alors on redefinit le maximum\n",
    "    return maxi"
   ]
  },
  {
   "cell_type": "code",
   "execution_count": 6,
   "metadata": {},
   "outputs": [],
   "source": [
    "#Fonction 25%\n",
    "def vingtcinq(x):\n",
    "    mini= min(x)\n",
    "    maxi= max(x)\n",
    "    vingtcinq = mini + ( maxi - mini )/4\n",
    "    return vingtcinq"
   ]
  },
  {
   "cell_type": "code",
   "execution_count": 13,
   "metadata": {},
   "outputs": [],
   "source": [
    "#Fonction 50%\n",
    "def cinquante(x):\n",
    "    mini= min(x)\n",
    "    maxi= max(x)\n",
    "    cinquante = ( maxi + mini )/2\n",
    "    return cinquante"
   ]
  },
  {
   "cell_type": "code",
   "execution_count": 19,
   "metadata": {},
   "outputs": [],
   "source": [
    "#Fonction 75%\n",
    "def soixantequinze(x):\n",
    "    mini= min(x)\n",
    "    maxi= max(x)\n",
    "    soixantequinze = mini + 3*( maxi - mini )/4\n",
    "    return soixantequinze"
   ]
  },
  {
   "cell_type": "code",
   "execution_count": 40,
   "metadata": {},
   "outputs": [],
   "source": [
    "#Fonction Mean\n",
    "def mean(x):\n",
    "    s = 0\n",
    "    for i in x:\n",
    "       s += i\n",
    "       meani = s/len(x)\n",
    "    return meani"
   ]
  },
  {
   "cell_type": "code",
   "execution_count": 48,
   "metadata": {},
   "outputs": [],
   "source": [
    "data1 = [4,6,8,10]\n",
    "#min(data1)\n",
    "#max(data1)\n",
    "#vingtcinq(data1)\n",
    "#cinquante(data1)\n",
    "#soixantequinze(data1)\n",
    "#mean(data1)\n",
    "#std(data1)"
   ]
  },
  {
   "cell_type": "code",
   "execution_count": null,
   "metadata": {},
   "outputs": [],
   "source": []
  },
  {
   "cell_type": "code",
   "execution_count": 44,
   "metadata": {},
   "outputs": [],
   "source": []
  },
  {
   "cell_type": "code",
   "execution_count": 47,
   "metadata": {},
   "outputs": [],
   "source": [
    ""
   ]
  },
  {
   "cell_type": "code",
   "execution_count": 47,
   "metadata": {},
   "outputs": [],
   "source": []
  },
  {
   "cell_type": "code",
   "execution_count": null,
   "metadata": {},
   "outputs": [],
   "source": []
  }
 ],
 "metadata": {},
 "nbformat": 4,
 "nbformat_minor": 0
}
